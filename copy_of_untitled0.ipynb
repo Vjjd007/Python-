{
  "nbformat": 4,
  "nbformat_minor": 0,
  "metadata": {
    "colab": {
      "provenance": [],
      "authorship_tag": "ABX9TyOJlzdgp179FSU7CBxk734M",
      "include_colab_link": true
    },
    "kernelspec": {
      "name": "python3",
      "display_name": "Python 3"
    },
    "language_info": {
      "name": "python"
    }
  },
  "cells": [
    {
      "cell_type": "markdown",
      "metadata": {
        "id": "view-in-github",
        "colab_type": "text"
      },
      "source": [
        "<a href=\"https://colab.research.google.com/github/Vjjd007/Python-/blob/main/copy_of_untitled0.ipynb\" target=\"_parent\"><img src=\"https://colab.research.google.com/assets/colab-badge.svg\" alt=\"Open In Colab\"/></a>"
      ]
    },
    {
      "cell_type": "code",
      "execution_count": null,
      "metadata": {
        "id": "DCxO0Mmw2vg0"
      },
      "outputs": [],
      "source": [
        "odd_numbers = [num for num in numbers if num % 2 != 0]\n",
        "even_numbers = [num for num in numbers if num % 2 == 0]\n",
        "odd_squares = [num ** 2 for num in odd_numbers]\n",
        "even_squares = [num ** 2 for num in even_numbers]\n",
        "print(\"List of odd numbers:\", odd_numbers)\n",
        "print(\"List of even numbers:\", even_numbers)\n",
        "print(\"Squares of odd numbers:\", odd_squares)\n",
        "print(\"Squares of even numbers:\", even_squares)"
      ]
    },
    {
      "cell_type": "code",
      "source": [
        "ist1=[2,4,8,7,34,24,9]\n",
        "a=len(list1)\n",
        "mini=list1[0]\n",
        "maxi=list1[0]\n",
        "for i in list1:\n",
        "  if (maxi< i):\n",
        "      maxi=i\n",
        "  if(mini>i):\n",
        "      mini=i\n",
        "print(\"The maximum value is:\",maxi)\n",
        "print(\"The minimum value is: \",mini)"
      ],
      "metadata": {
        "id": "zFhcBDiz24d2"
      },
      "execution_count": null,
      "outputs": []
    },
    {
      "cell_type": "code",
      "source": [
        "def find_len(list1):\n",
        "    length = len(list1)\n",
        "    list1.sort()\n",
        "    print(\"Largest element is:\", list1[length-1])\n",
        "    print(\"Smallest element is:\", list1[0])\n",
        "    print(\"Second Largest element is:\", list1[length-2])\n",
        "    print(\"Second Smallest element is:\", list1[1])\n",
        "list1=[12, 45, 2, 41, 31, 10, 8, 6, 4]\n",
        "Largest = find_len(list1)"
      ],
      "metadata": {
        "id": "exqOGPYf29US"
      },
      "execution_count": null,
      "outputs": []
    },
    {
      "cell_type": "code",
      "source": [
        "def ascending_sort(lst):\n",
        "    for i in range(len(lst)):\n",
        "        for j in range(i + 1, len(lst)):\n",
        "            if lst[i] > lst[j]:\n",
        "                lst[i], lst[j] = lst[j], lst[i]\n",
        "    return lst\n",
        "def descending_sort(lst):\n",
        "    for i in range(len(lst)):\n",
        "        for j in range(i + 1, len(lst)):\n",
        "            if lst[i] < lst[j]:\n",
        "                lst[i], lst[j] = lst[j], lst[i]\n",
        "    return lst\n",
        "my_list = [3, 1, 4, 1, 5, 9, 2, 6, 5, 3, 5]\n",
        "sorted_ascending = ascending_sort(my_list.copy())\n",
        "sorted_descending = descending_sort(my_list.copy())\n",
        "print(\"Original list:\", my_list)\n",
        "print(\"Ascending order:\", sorted_ascending)\n",
        "print(\"Descending order:\", sorted_descending)\n"
      ],
      "metadata": {
        "id": "E_o6h22Y3Av0"
      },
      "execution_count": null,
      "outputs": []
    },
    {
      "cell_type": "code",
      "source": [
        "a = [45, 67, 83, 24, 55, 87, 77, 34]\n",
        "number_to_find = 55\n",
        "\n",
        "index_position = a.index(number_to_find)\n",
        "print(\"The position of\", number_to_find, \"in the list is:\", index_position)"
      ],
      "metadata": {
        "id": "rwoQoekV3D-6"
      },
      "execution_count": null,
      "outputs": []
    },
    {
      "cell_type": "code",
      "source": [
        "def most_frequent(List):\n",
        "    counter = 0\n",
        "    num = List[0]\n",
        "\n",
        "    for i in List:\n",
        "        curr_frequency = List.count(i)\n",
        "        if(curr_frequency> counter):\n",
        "            counter = curr_frequency\n",
        "            num = i\n",
        "\n",
        "    return num\n",
        "List = [2, 1, 2, 2, 1, 3]\n",
        "print(most_frequent(List))"
      ],
      "metadata": {
        "id": "L6b3PHhP3IBi"
      },
      "execution_count": null,
      "outputs": []
    },
    {
      "cell_type": "code",
      "source": [
        "keys = ['Ten', 'Twenty', 'Thirty']\n",
        "values = [10, 20, 30]\n",
        "result_dict = {}\n",
        "for key, value in zip(keys, values):\n",
        "    result_dict.update({key: value})\n",
        "\n",
        "print(\"Resulting dictionary:\", result_dict)"
      ],
      "metadata": {
        "id": "MCnQyqYN3Lgp"
      },
      "execution_count": null,
      "outputs": []
    },
    {
      "cell_type": "code",
      "source": [
        "import random\n",
        "voter_list = ['Voter1', 'Voter2', 'Voter3', 'Voter4', 'Voter5', 'Voter6', 'Voter7', 'Voter8', 'Voter9', 'Voter10']\n",
        "votes = {'A': 0, 'B': 0, 'C': 0}\n",
        "for voter in voter_list:\n",
        "    vote = random.choice(['A', 'B', 'C'])\n",
        "    votes[vote] += 1\n",
        "winner = max(votes, key=votes.get)\n",
        "winner_votes = votes[winner]\n",
        "del votes[winner]\n",
        "runner_up = max(votes, key=votes.get)\n",
        "runner_up_votes = votes[runner_up]\n",
        "winner_voters = [voter for voter in voter_list if random.choice(['A', 'B', 'C']) == winner]\n",
        "runner_up_voters = [voter for voter in voter_list if random.choice(['A', 'B', 'C']) == runner_up]\n",
        "\n",
        "print(\"Election Results:\")\n",
        "print(\"Winner:\", winner, \"with\", winner_votes, \"votes\")\n",
        "print(\"Runner-up:\", runner_up, \"with\", runner_up_votes, \"votes\")\n",
        "print(\"Voters who voted for the winner:\", winner_voters)\n",
        "print(\"Voters who voted for the runner-up:\", runner_up_voters)"
      ],
      "metadata": {
        "id": "opvuGbRA3OOK"
      },
      "execution_count": null,
      "outputs": []
    },
    {
      "cell_type": "code",
      "source": [
        "def rupee_to_dollar(indian_rupee):\n",
        "    return indian_rupee / 74.95\n",
        "\n",
        "def celsius_to_fahrenheit(celsius):\n",
        "    return (celsius * 9/5) + 32\n",
        "\n",
        "def calculate_bmi(weight_kg, height_m):\n",
        "    return weight_kg / (height_m ** 2)\n",
        "\n",
        "def calculate_simple_interest(principal, rate, time):\n",
        "    return (principal * rate * time) / 100\n",
        "indian_rupee = 1000\n",
        "us_dollar = rupee_to_dollar(indian_rupee)\n",
        "print(f\"{indian_rupee} Indian Rupees is equivalent to {us_dollar:.2f} US Dollars\")\n",
        "\n",
        "celsius_temp = 25\n",
        "fahrenheit_temp = celsius_to_fahrenheit(celsius_temp)\n",
        "print(f\"{celsius_temp} degrees Celsius is equal to {fahrenheit_temp:.2f} degrees Fahrenheit\")\n",
        "\n",
        "weight = 65\n",
        "height = 1.75\n",
        "bmi = calculate_bmi(weight, height)\n",
        "print(f\"Your BMI is {bmi:.2f}\")\n",
        "\n",
        "principal_amount = 1000\n",
        "interest_rate = 5\n",
        "time_period = 2\n",
        "simple_interest = calculate_simple_interest(principal_amount, interest_rate, time_period)\n",
        "print(f\"The simple interest on {principal_amount} for {time_period} years at {interest_rate}% rate is {simple_interest:.2f}\")"
      ],
      "metadata": {
        "id": "GBjz8-qq3RSL"
      },
      "execution_count": null,
      "outputs": []
    },
    {
      "cell_type": "code",
      "source": [
        "def zeros_and_ones(input_list):\n",
        "    output_list = []\n",
        "    for num in input_list:\n",
        "        if num == 0 or num == 1:\n",
        "            output_list.append(num)\n",
        "    return output_list\n",
        "\n",
        "input_list = [0, 1, 0, 1, 1, 0, 1, 0, 1, 0]\n",
        "result_list = zeros_and_ones(input_list)\n",
        "print(\"Output list:\", result_list)\n"
      ],
      "metadata": {
        "id": "xXbR7bL23ViR"
      },
      "execution_count": null,
      "outputs": []
    }
  ]
}