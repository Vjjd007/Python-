{
  "nbformat": 4,
  "nbformat_minor": 0,
  "metadata": {
    "colab": {
      "provenance": [],
      "authorship_tag": "ABX9TyMETiGKtHc+49SgiaZ0Goa0",
      "include_colab_link": true
    },
    "kernelspec": {
      "name": "python3",
      "display_name": "Python 3"
    },
    "language_info": {
      "name": "python"
    }
  },
  "cells": [
    {
      "cell_type": "markdown",
      "metadata": {
        "id": "view-in-github",
        "colab_type": "text"
      },
      "source": [
        "<a href=\"https://colab.research.google.com/github/Vjjd007/Python-/blob/main/python_mini_project.ipynb\" target=\"_parent\"><img src=\"https://colab.research.google.com/assets/colab-badge.svg\" alt=\"Open In Colab\"/></a>"
      ]
    },
    {
      "cell_type": "code",
      "execution_count": null,
      "metadata": {
        "colab": {
          "base_uri": "https://localhost:8080/",
          "height": 332
        },
        "id": "Fx_D4t4SeJ-w",
        "outputId": "d3a59a3f-3ae1-4c8c-a369-7af54d0febe4"
      },
      "outputs": [
        {
          "output_type": "error",
          "ename": "TclError",
          "evalue": "no display name and no $DISPLAY environment variable",
          "traceback": [
            "\u001b[0;31m---------------------------------------------------------------------------\u001b[0m",
            "\u001b[0;31mTclError\u001b[0m                                  Traceback (most recent call last)",
            "\u001b[0;32m<ipython-input-1-cdbc5738fee3>\u001b[0m in \u001b[0;36m<cell line: 77>\u001b[0;34m()\u001b[0m\n\u001b[1;32m     75\u001b[0m             \u001b[0mself\u001b[0m\u001b[0;34m.\u001b[0m\u001b[0mequation\u001b[0m\u001b[0;34m.\u001b[0m\u001b[0mset\u001b[0m\u001b[0;34m(\u001b[0m\u001b[0;34m\"Error\"\u001b[0m\u001b[0;34m)\u001b[0m\u001b[0;34m\u001b[0m\u001b[0;34m\u001b[0m\u001b[0m\n\u001b[1;32m     76\u001b[0m \u001b[0;34m\u001b[0m\u001b[0m\n\u001b[0;32m---> 77\u001b[0;31m \u001b[0mroot\u001b[0m \u001b[0;34m=\u001b[0m \u001b[0mTk\u001b[0m\u001b[0;34m(\u001b[0m\u001b[0;34m)\u001b[0m\u001b[0;34m\u001b[0m\u001b[0;34m\u001b[0m\u001b[0m\n\u001b[0m\u001b[1;32m     78\u001b[0m \u001b[0mcalculator\u001b[0m \u001b[0;34m=\u001b[0m \u001b[0mCalculator\u001b[0m\u001b[0;34m(\u001b[0m\u001b[0mroot\u001b[0m\u001b[0;34m)\u001b[0m\u001b[0;34m\u001b[0m\u001b[0;34m\u001b[0m\u001b[0m\n\u001b[1;32m     79\u001b[0m \u001b[0mroot\u001b[0m\u001b[0;34m.\u001b[0m\u001b[0mmainloop\u001b[0m\u001b[0;34m(\u001b[0m\u001b[0;34m)\u001b[0m\u001b[0;34m\u001b[0m\u001b[0;34m\u001b[0m\u001b[0m\n",
            "\u001b[0;32m/usr/lib/python3.10/tkinter/__init__.py\u001b[0m in \u001b[0;36m__init__\u001b[0;34m(self, screenName, baseName, className, useTk, sync, use)\u001b[0m\n\u001b[1;32m   2297\u001b[0m                 \u001b[0mbaseName\u001b[0m \u001b[0;34m=\u001b[0m \u001b[0mbaseName\u001b[0m \u001b[0;34m+\u001b[0m \u001b[0mext\u001b[0m\u001b[0;34m\u001b[0m\u001b[0;34m\u001b[0m\u001b[0m\n\u001b[1;32m   2298\u001b[0m         \u001b[0minteractive\u001b[0m \u001b[0;34m=\u001b[0m \u001b[0;32mFalse\u001b[0m\u001b[0;34m\u001b[0m\u001b[0;34m\u001b[0m\u001b[0m\n\u001b[0;32m-> 2299\u001b[0;31m         \u001b[0mself\u001b[0m\u001b[0;34m.\u001b[0m\u001b[0mtk\u001b[0m \u001b[0;34m=\u001b[0m \u001b[0m_tkinter\u001b[0m\u001b[0;34m.\u001b[0m\u001b[0mcreate\u001b[0m\u001b[0;34m(\u001b[0m\u001b[0mscreenName\u001b[0m\u001b[0;34m,\u001b[0m \u001b[0mbaseName\u001b[0m\u001b[0;34m,\u001b[0m \u001b[0mclassName\u001b[0m\u001b[0;34m,\u001b[0m \u001b[0minteractive\u001b[0m\u001b[0;34m,\u001b[0m \u001b[0mwantobjects\u001b[0m\u001b[0;34m,\u001b[0m \u001b[0museTk\u001b[0m\u001b[0;34m,\u001b[0m \u001b[0msync\u001b[0m\u001b[0;34m,\u001b[0m \u001b[0muse\u001b[0m\u001b[0;34m)\u001b[0m\u001b[0;34m\u001b[0m\u001b[0;34m\u001b[0m\u001b[0m\n\u001b[0m\u001b[1;32m   2300\u001b[0m         \u001b[0;32mif\u001b[0m \u001b[0museTk\u001b[0m\u001b[0;34m:\u001b[0m\u001b[0;34m\u001b[0m\u001b[0;34m\u001b[0m\u001b[0m\n\u001b[1;32m   2301\u001b[0m             \u001b[0mself\u001b[0m\u001b[0;34m.\u001b[0m\u001b[0m_loadtk\u001b[0m\u001b[0;34m(\u001b[0m\u001b[0;34m)\u001b[0m\u001b[0;34m\u001b[0m\u001b[0;34m\u001b[0m\u001b[0m\n",
            "\u001b[0;31mTclError\u001b[0m: no display name and no $DISPLAY environment variable"
          ]
        }
      ],
      "source": [
        "# Scientific Calculator using Tkinter\n",
        "\n",
        "import tkinter as tk\n",
        "from math import sin, cos, tan, log, log10, sqrt, pi, e\n",
        "\n",
        "class Calculator:\n",
        "    def __init__(self, root):\n",
        "        self.root = root\n",
        "        self.entry = tk.Entry(root, width=35, borderwidth=5)\n",
        "        self.entry.grid(row=0, column=0, columnspan=4)\n",
        "\n",
        "        buttons = [\n",
        "            '7', '8', '9', '/',\n",
        "            '4', '5', '6', '*',\n",
        "            '1', '2', '3', '-',\n",
        "            '0', '.', '=', '+'\n",
        "        ]\n",
        "\n",
        "        row_val = 1\n",
        "        col_val = 0\n",
        "\n",
        "        for button in buttons:\n",
        "            tk.Button(root, text=button, width=5, command=lambda button=button: self.click_button(button)).grid(row=row_val, column=col_val)\n",
        "            col_val += 1\n",
        "            if col_val > 3:\n",
        "                col_val = 0\n",
        "                row_val += 1\n",
        "\n",
        "        tk.Button(root, text=\"sin\", width=5, command=lambda: self.click_button(\"sin\")).grid(row=1, column=4)\n",
        "        tk.Button(root, text=\"cos\", width=5, command=lambda: self.click_button(\"cos\")).grid(row=2, column=4)\n",
        "        tk.Button(root, text=\"tan\", width=5, command=lambda: self.click_button(\"tan\")).grid(row=3, column=4)\n",
        "        tk.Button(root, text=\"log\", width=5, command=lambda: self.click_button(\"log\")).grid(row=4, column=4)\n",
        "        tk.Button(root, text=\"sqrt\", width=5, command=lambda: self.click_button(\"sqrt\")).grid(row=5, column=4)\n",
        "        tk.Button(root, text=\"pi\", width=5, command=lambda: self.click_button(\"pi\")).grid(row=6, column=4)\n",
        "        tk.Button(root, text=\"e\", width=5, command=lambda: self.click_button(\"e\")).grid(row=7, column=4)\n",
        "        tk.Button(root, text=\"clear\", width=21, command=lambda: self.click_button(\"clear\")).grid(row=8, column=0, columnspan=4)\n",
        "\n",
        "    def click_button(self, button):\n",
        "        current = self.entry.get()\n",
        "        if button == '=':\n",
        "            try:\n",
        "                result = str(eval(current))\n",
        "                self.entry.delete(0, tk.END)\n",
        "                self.entry.insert(tk.END, result)\n",
        "            except Exception as e:\n",
        "                self.entry.delete(0, tk.END)\n",
        "                self.entry.insert(tk.END, \"Error\")\n",
        "        elif button == \"clear\":\n",
        "            self.entry.delete(0, tk.END)\n",
        "        elif button in [\"sin\", \"cos\", \"tan\", \"log\", \"sqrt\"]:\n",
        "            if button == \"sin\":\n",
        "                result = str(sin(float(current)))\n",
        "            elif button == \"cos\":\n",
        "                result = str(cos(float(current)))\n",
        "            elif button == \"tan\":\n",
        "                result = str(tan(float(current)))\n",
        "            elif button == \"log\":\n",
        "                result = str(log(float(current)))\n",
        "            elif button == \"sqrt\":\n",
        "                result = str(sqrt(float(current)))\n",
        "            self.entry.delete(0, tk.END)\n",
        "            self.entry.insert(tk.END, result)\n",
        "        elif button == \"pi\":\n",
        "            self.entry.insert(tk.END, str(pi))\n",
        "        elif button == \"e\":\n",
        "            self.entry.insert(tk.END, str(e))\n",
        "        else:\n",
        "            self.entry.insert(tk.END, button)\n",
        "\n",
        "root = tk.Tk()\n",
        "root.title(\"Scientific Calculator\")\n",
        "my_calculator = Calculator(root)\n",
        "root.mainloop()"
      ]
    },
    {
      "cell_type": "code",
      "source": [
        "import tkinter as tk\n",
        "from tkinter import *\n",
        "tom=Tk()\n",
        "tom.title(\"AIML\")\n",
        "tom.geometry(\"500x500\")\n",
        "tom.configure(bg=\"pink\")\n",
        "tom.resizable(False,False)\n",
        "sample=StringVar()\n",
        "text1=StringVar()\n",
        "text2=StringVar()\n",
        "def hello():\n",
        "    a=text1.get()\n",
        "    b=text2.get()\n",
        "    sample.set(a+b)\n",
        "Label(tom,text=\"Number 1\",font=('Arial',20,'bold'),bg='blue').place(x=10,y=10)\n",
        "Label(tom,text=\"number 2\",font=('Arial',20,'bold'),bg='blue').place(x=10,y=100)\n",
        "Entry(tom,width=20,textvariable=text1,font=('algerian',25),bg='green').place(x=10,y=50)\n",
        "Entry(tom,width=20,textvariable=text2,font=('algerian',25),bg='green').place(x=10,y=150)\n",
        "Label(tom,textvariable=sample,font=(\"calibri\",12),bg=\"green\").place(x=10,y=200)\n",
        "Button(tom,text='ADD',font=('algerian',15, 'bold'),width=13,bg='orange',command=hello).place(x=280,y=10)\n",
        "Label(tom,width=20,textvariable=sample,font=(\"calibri\",12),bg='white').place(x=10,y=200)\n",
        "tom.mainloop()"
      ],
      "metadata": {
        "colab": {
          "base_uri": "https://localhost:8080/",
          "height": 332
        },
        "id": "zDHrOxb1eRi4",
        "outputId": "10f4d38b-8440-44df-fc6a-17ed537c86c8"
      },
      "execution_count": null,
      "outputs": [
        {
          "output_type": "error",
          "ename": "TclError",
          "evalue": "no display name and no $DISPLAY environment variable",
          "traceback": [
            "\u001b[0;31m---------------------------------------------------------------------------\u001b[0m",
            "\u001b[0;31mTclError\u001b[0m                                  Traceback (most recent call last)",
            "\u001b[0;32m<ipython-input-3-94b1c896afde>\u001b[0m in \u001b[0;36m<cell line: 3>\u001b[0;34m()\u001b[0m\n\u001b[1;32m      1\u001b[0m \u001b[0;32mimport\u001b[0m \u001b[0mtkinter\u001b[0m \u001b[0;32mas\u001b[0m \u001b[0mtk\u001b[0m\u001b[0;34m\u001b[0m\u001b[0;34m\u001b[0m\u001b[0m\n\u001b[1;32m      2\u001b[0m \u001b[0;32mfrom\u001b[0m \u001b[0mtkinter\u001b[0m \u001b[0;32mimport\u001b[0m \u001b[0;34m*\u001b[0m\u001b[0;34m\u001b[0m\u001b[0;34m\u001b[0m\u001b[0m\n\u001b[0;32m----> 3\u001b[0;31m \u001b[0mtom\u001b[0m\u001b[0;34m=\u001b[0m\u001b[0mTk\u001b[0m\u001b[0;34m(\u001b[0m\u001b[0;34m)\u001b[0m\u001b[0;34m\u001b[0m\u001b[0;34m\u001b[0m\u001b[0m\n\u001b[0m\u001b[1;32m      4\u001b[0m \u001b[0mtom\u001b[0m\u001b[0;34m.\u001b[0m\u001b[0mtitle\u001b[0m\u001b[0;34m(\u001b[0m\u001b[0;34m\"AIML\"\u001b[0m\u001b[0;34m)\u001b[0m\u001b[0;34m\u001b[0m\u001b[0;34m\u001b[0m\u001b[0m\n\u001b[1;32m      5\u001b[0m \u001b[0mtom\u001b[0m\u001b[0;34m.\u001b[0m\u001b[0mgeometry\u001b[0m\u001b[0;34m(\u001b[0m\u001b[0;34m\"500x500\"\u001b[0m\u001b[0;34m)\u001b[0m\u001b[0;34m\u001b[0m\u001b[0;34m\u001b[0m\u001b[0m\n",
            "\u001b[0;32m/usr/lib/python3.10/tkinter/__init__.py\u001b[0m in \u001b[0;36m__init__\u001b[0;34m(self, screenName, baseName, className, useTk, sync, use)\u001b[0m\n\u001b[1;32m   2297\u001b[0m                 \u001b[0mbaseName\u001b[0m \u001b[0;34m=\u001b[0m \u001b[0mbaseName\u001b[0m \u001b[0;34m+\u001b[0m \u001b[0mext\u001b[0m\u001b[0;34m\u001b[0m\u001b[0;34m\u001b[0m\u001b[0m\n\u001b[1;32m   2298\u001b[0m         \u001b[0minteractive\u001b[0m \u001b[0;34m=\u001b[0m \u001b[0;32mFalse\u001b[0m\u001b[0;34m\u001b[0m\u001b[0;34m\u001b[0m\u001b[0m\n\u001b[0;32m-> 2299\u001b[0;31m         \u001b[0mself\u001b[0m\u001b[0;34m.\u001b[0m\u001b[0mtk\u001b[0m \u001b[0;34m=\u001b[0m \u001b[0m_tkinter\u001b[0m\u001b[0;34m.\u001b[0m\u001b[0mcreate\u001b[0m\u001b[0;34m(\u001b[0m\u001b[0mscreenName\u001b[0m\u001b[0;34m,\u001b[0m \u001b[0mbaseName\u001b[0m\u001b[0;34m,\u001b[0m \u001b[0mclassName\u001b[0m\u001b[0;34m,\u001b[0m \u001b[0minteractive\u001b[0m\u001b[0;34m,\u001b[0m \u001b[0mwantobjects\u001b[0m\u001b[0;34m,\u001b[0m \u001b[0museTk\u001b[0m\u001b[0;34m,\u001b[0m \u001b[0msync\u001b[0m\u001b[0;34m,\u001b[0m \u001b[0muse\u001b[0m\u001b[0;34m)\u001b[0m\u001b[0;34m\u001b[0m\u001b[0;34m\u001b[0m\u001b[0m\n\u001b[0m\u001b[1;32m   2300\u001b[0m         \u001b[0;32mif\u001b[0m \u001b[0museTk\u001b[0m\u001b[0;34m:\u001b[0m\u001b[0;34m\u001b[0m\u001b[0;34m\u001b[0m\u001b[0m\n\u001b[1;32m   2301\u001b[0m             \u001b[0mself\u001b[0m\u001b[0;34m.\u001b[0m\u001b[0m_loadtk\u001b[0m\u001b[0;34m(\u001b[0m\u001b[0;34m)\u001b[0m\u001b[0;34m\u001b[0m\u001b[0;34m\u001b[0m\u001b[0m\n",
            "\u001b[0;31mTclError\u001b[0m: no display name and no $DISPLAY environment variable"
          ]
        }
      ]
    }
  ]
}